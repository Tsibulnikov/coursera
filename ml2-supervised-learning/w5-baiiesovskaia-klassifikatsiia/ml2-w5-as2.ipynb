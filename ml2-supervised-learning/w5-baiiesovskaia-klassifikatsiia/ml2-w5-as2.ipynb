{
 "cells": [
  {
   "cell_type": "code",
   "execution_count": 40,
   "metadata": {
    "collapsed": false
   },
   "outputs": [],
   "source": [
    "from sklearn import datasets\n",
    "from sklearn.cross_validation import cross_val_score\n",
    "from sklearn import naive_bayes as nb\n",
    "# import numpy as np\n",
    "# %matplotlib inline\n",
    "import sys\n",
    "sys.path.append('../..')\n",
    "from lib import *"
   ]
  },
  {
   "cell_type": "code",
   "execution_count": 24,
   "metadata": {
    "collapsed": false
   },
   "outputs": [],
   "source": [
    "digits = datasets.load_digits()"
   ]
  },
  {
   "cell_type": "code",
   "execution_count": 6,
   "metadata": {
    "collapsed": true
   },
   "outputs": [],
   "source": [
    "breast_cancer = datasets.load_breast_cancer()"
   ]
  },
  {
   "cell_type": "code",
   "execution_count": 26,
   "metadata": {
    "collapsed": true
   },
   "outputs": [],
   "source": [
    "X1 = digits.data\n",
    "y1 = digits.target\n",
    "X2 = breast_cancer.data\n",
    "y2 = breast_cancer.target"
   ]
  },
  {
   "cell_type": "code",
   "execution_count": 19,
   "metadata": {
    "collapsed": false
   },
   "outputs": [
    {
     "name": "stdout",
     "output_type": "stream",
     "text": [
      "[[  0.   0.   5.  13.   9.   1.   0.   0.   0.   0.  13.  15.  10.  15.\n",
      "    5.   0.   0.   3.  15.   2.   0.  11.   8.   0.   0.   4.  12.   0.\n",
      "    0.   8.   8.   0.   0.   5.   8.   0.   0.   9.   8.   0.   0.   4.\n",
      "   11.   0.   1.  12.   7.   0.   0.   2.  14.   5.  10.  12.   0.   0.\n",
      "    0.   0.   6.  13.  10.   0.   0.   0.]] [0 1 2 3 4 5 6 7 8 9]\n"
     ]
    }
   ],
   "source": [
    "print(digits.data[:1], digits.target[:10])"
   ]
  },
  {
   "cell_type": "code",
   "execution_count": 22,
   "metadata": {
    "collapsed": false
   },
   "outputs": [
    {
     "name": "stdout",
     "output_type": "stream",
     "text": [
      "[[  1.79900000e+01   1.03800000e+01   1.22800000e+02   1.00100000e+03\n",
      "    1.18400000e-01   2.77600000e-01   3.00100000e-01   1.47100000e-01\n",
      "    2.41900000e-01   7.87100000e-02   1.09500000e+00   9.05300000e-01\n",
      "    8.58900000e+00   1.53400000e+02   6.39900000e-03   4.90400000e-02\n",
      "    5.37300000e-02   1.58700000e-02   3.00300000e-02   6.19300000e-03\n",
      "    2.53800000e+01   1.73300000e+01   1.84600000e+02   2.01900000e+03\n",
      "    1.62200000e-01   6.65600000e-01   7.11900000e-01   2.65400000e-01\n",
      "    4.60100000e-01   1.18900000e-01]] [0 0 0 0 0 0 0 0 0 0 0 0 0 0 0 0 0 0 0 1 1 1 0 0 0 0 0 0 0 0]\n"
     ]
    }
   ],
   "source": [
    "print(breast_cancer.data[:1], breast_cancer.target[:30])"
   ]
  },
  {
   "cell_type": "code",
   "execution_count": 39,
   "metadata": {
    "collapsed": false
   },
   "outputs": [
    {
     "name": "stdout",
     "output_type": "stream",
     "text": [
      "BernoulliNB(alpha=1.0, binarize=0.0, class_prior=None, fit_prior=True)\n",
      "Optical Re 0.825823650778\n",
      "Breast Can 0.627420402859\n",
      "MultinomialNB(alpha=1.0, class_prior=None, fit_prior=True)\n",
      "Optical Re 0.870877148974\n",
      "Breast Can 0.894579040193\n",
      "GaussianNB()\n",
      "Optical Re 0.818600380355\n",
      "Breast Can 0.936749280609\n"
     ]
    }
   ],
   "source": [
    "def test1(t, est, X, y):\n",
    "    print(t, cross_val_score(est, X, y).mean())\n",
    "for est in [nb.BernoulliNB(), nb.MultinomialNB(), nb.GaussianNB()]:\n",
    "    print(est)\n",
    "    for ds in [digits, breast_cancer]:\n",
    "        test1(ds.DESCR[:10], est, ds.data, ds.target)"
   ]
  },
  {
   "cell_type": "code",
   "execution_count": 45,
   "metadata": {
    "collapsed": false
   },
   "outputs": [
    {
     "name": "stdout",
     "output_type": "stream",
     "text": [
      "1=\"0.936749280609\"\n",
      "\n",
      "2=\"0.870877148974\"\n",
      "\n",
      "3=\"3 4\"\n",
      "\n"
     ]
    }
   ],
   "source": [
    "pf('1', '0.936749280609')\n",
    "pf('2', '0.870877148974')\n",
    "pf('3', '3 4')"
   ]
  },
  {
   "cell_type": "code",
   "execution_count": 44,
   "metadata": {
    "collapsed": false
   },
   "outputs": [
    {
     "name": "stdout",
     "output_type": "stream",
     "text": [
      "Breast Cancer Wisconsin (Diagnostic) Database\n",
      "\n",
      "Notes\n",
      "-----\n",
      "Data Set Characteristics:\n",
      "    :Number of Instances: 569\n",
      "\n",
      "    :Number of Attributes: 30 numeric, predictive attributes and the class\n",
      "\n",
      "    :Attribute Information:\n",
      "        - radius (mean of distances from center to points on the perimeter)\n",
      "        - texture (standard deviation of gray-scale values)\n",
      "        - perimeter\n",
      "        - area\n",
      "        - smoothness (local variation in radius lengths)\n",
      "        - compactness (perimeter^2 / area - 1.0)\n",
      "        - concavity (severity of concave portions of the contour)\n",
      "        - concave points (number of concave portions of the contour)\n",
      "        - symmetry \n",
      "        - fractal dimension (\"coastline approximation\" - 1)\n",
      "        \n",
      "        The mean, standard error, and \"worst\" or largest (mean of the three\n",
      "        largest values) of these features were computed for each image,\n",
      "        resulting in 30 features.  For instance, field 3 is Mean Radius, field\n",
      "        13 is Radius SE, field 23 is Worst Radius.\n",
      "        \n",
      "        - class:\n",
      "                - WDBC-Malignant\n",
      "                - WDBC-Benign\n",
      "\n",
      "    :Summary Statistics:\n",
      "\n",
      "    ===================================== ======= ========\n",
      "                                           Min     Max\n",
      "    ===================================== ======= ========\n",
      "    radius (mean):                         6.981   28.11\n",
      "    texture (mean):                        9.71    39.28\n",
      "    perimeter (mean):                      43.79   188.5\n",
      "    area (mean):                           143.5   2501.0\n",
      "    smoothness (mean):                     0.053   0.163\n",
      "    compactness (mean):                    0.019   0.345\n",
      "    concavity (mean):                      0.0     0.427\n",
      "    concave points (mean):                 0.0     0.201\n",
      "    symmetry (mean):                       0.106   0.304\n",
      "    fractal dimension (mean):              0.05    0.097\n",
      "    radius (standard error):               0.112   2.873\n",
      "    texture (standard error):              0.36    4.885\n",
      "    perimeter (standard error):            0.757   21.98\n",
      "    area (standard error):                 6.802   542.2\n",
      "    smoothness (standard error):           0.002   0.031\n",
      "    compactness (standard error):          0.002   0.135\n",
      "    concavity (standard error):            0.0     0.396\n",
      "    concave points (standard error):       0.0     0.053\n",
      "    symmetry (standard error):             0.008   0.079\n",
      "    fractal dimension (standard error):    0.001   0.03\n",
      "    radius (worst):                        7.93    36.04\n",
      "    texture (worst):                       12.02   49.54\n",
      "    perimeter (worst):                     50.41   251.2\n",
      "    area (worst):                          185.2   4254.0\n",
      "    smoothness (worst):                    0.071   0.223\n",
      "    compactness (worst):                   0.027   1.058\n",
      "    concavity (worst):                     0.0     1.252\n",
      "    concave points (worst):                0.0     0.291\n",
      "    symmetry (worst):                      0.156   0.664\n",
      "    fractal dimension (worst):             0.055   0.208\n",
      "    ===================================== ======= ========\n",
      "\n",
      "    :Missing Attribute Values: None\n",
      "\n",
      "    :Class Distribution: 212 - Malignant, 357 - Benign\n",
      "\n",
      "    :Creator:  Dr. William H. Wolberg, W. Nick Street, Olvi L. Mangasarian\n",
      "\n",
      "    :Donor: Nick Street\n",
      "\n",
      "    :Date: November, 1995\n",
      "\n",
      "This is a copy of UCI ML Breast Cancer Wisconsin (Diagnostic) datasets.\n",
      "https://goo.gl/U2Uwz2\n",
      "\n",
      "Features are computed from a digitized image of a fine needle\n",
      "aspirate (FNA) of a breast mass.  They describe\n",
      "characteristics of the cell nuclei present in the image.\n",
      "A few of the images can be found at\n",
      "http://www.cs.wisc.edu/~street/images/\n",
      "\n",
      "Separating plane described above was obtained using\n",
      "Multisurface Method-Tree (MSM-T) [K. P. Bennett, \"Decision Tree\n",
      "Construction Via Linear Programming.\" Proceedings of the 4th\n",
      "Midwest Artificial Intelligence and Cognitive Science Society,\n",
      "pp. 97-101, 1992], a classification method which uses linear\n",
      "programming to construct a decision tree.  Relevant features\n",
      "were selected using an exhaustive search in the space of 1-4\n",
      "features and 1-3 separating planes.\n",
      "\n",
      "The actual linear program used to obtain the separating plane\n",
      "in the 3-dimensional space is that described in:\n",
      "[K. P. Bennett and O. L. Mangasarian: \"Robust Linear\n",
      "Programming Discrimination of Two Linearly Inseparable Sets\",\n",
      "Optimization Methods and Software 1, 1992, 23-34].\n",
      "\n",
      "This database is also available through the UW CS ftp server:\n",
      "\n",
      "ftp ftp.cs.wisc.edu\n",
      "cd math-prog/cpo-dataset/machine-learn/WDBC/\n",
      "\n",
      "References\n",
      "----------\n",
      "   - W.N. Street, W.H. Wolberg and O.L. Mangasarian. Nuclear feature extraction \n",
      "     for breast tumor diagnosis. IS&T/SPIE 1993 International Symposium on \n",
      "     Electronic Imaging: Science and Technology, volume 1905, pages 861-870, \n",
      "     San Jose, CA, 1993. \n",
      "   - O.L. Mangasarian, W.N. Street and W.H. Wolberg. Breast cancer diagnosis and \n",
      "     prognosis via linear programming. Operations Research, 43(4), pages 570-577, \n",
      "     July-August 1995.\n",
      "   - W.H. Wolberg, W.N. Street, and O.L. Mangasarian. Machine learning techniques\n",
      "     to diagnose breast cancer from fine-needle aspirates. Cancer Letters 77 (1994) \n",
      "     163-171.\n",
      "\n"
     ]
    }
   ],
   "source": [
    "print(breast_cancer.DESCR)"
   ]
  },
  {
   "cell_type": "code",
   "execution_count": null,
   "metadata": {
    "collapsed": true
   },
   "outputs": [],
   "source": []
  }
 ],
 "metadata": {
  "kernelspec": {
   "display_name": "Python 3",
   "language": "python",
   "name": "python3"
  },
  "language_info": {
   "codemirror_mode": {
    "name": "ipython",
    "version": 3
   },
   "file_extension": ".py",
   "mimetype": "text/x-python",
   "name": "python",
   "nbconvert_exporter": "python",
   "pygments_lexer": "ipython3",
   "version": "3.5.1"
  }
 },
 "nbformat": 4,
 "nbformat_minor": 0
}
