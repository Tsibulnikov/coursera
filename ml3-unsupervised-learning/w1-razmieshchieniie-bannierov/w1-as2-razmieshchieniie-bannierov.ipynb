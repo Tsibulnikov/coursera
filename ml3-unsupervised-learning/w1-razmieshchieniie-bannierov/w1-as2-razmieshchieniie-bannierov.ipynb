{
 "cells": [
  {
   "cell_type": "code",
   "execution_count": 74,
   "metadata": {
    "collapsed": false
   },
   "outputs": [],
   "source": [
    "from pandas import read_csv\n",
    "from sklearn.cluster import MeanShift\n",
    "import numpy as np\n",
    "from io import StringIO\n",
    "import sys\n",
    "sys.path.append('../..')\n",
    "from lib import *\n",
    "from collections import Counter"
   ]
  },
  {
   "cell_type": "code",
   "execution_count": 14,
   "metadata": {
    "collapsed": false
   },
   "outputs": [
    {
     "name": "stderr",
     "output_type": "stream",
     "text": [
      "/opt/conda/lib/python3.5/site-packages/IPython/core/interactiveshell.py:2723: DtypeWarning: Columns (0) have mixed types. Specify dtype option on import or set low_memory=False.\n",
      "  interactivity=interactivity, compiler=compiler, result=result)\n"
     ]
    },
    {
     "data": {
      "text/html": [
       "<div>\n",
       "<table border=\"1\" class=\"dataframe\">\n",
       "  <thead>\n",
       "    <tr style=\"text-align: right;\">\n",
       "      <th></th>\n",
       "      <th>id</th>\n",
       "      <th>user_id</th>\n",
       "      <th>venue_id</th>\n",
       "      <th>latitude</th>\n",
       "      <th>longitude</th>\n",
       "      <th>created_at</th>\n",
       "    </tr>\n",
       "  </thead>\n",
       "  <tbody>\n",
       "    <tr>\n",
       "      <th>1</th>\n",
       "      <td>984222</td>\n",
       "      <td>15824</td>\n",
       "      <td>5222</td>\n",
       "      <td>38.895112</td>\n",
       "      <td>-77.036366</td>\n",
       "      <td>2012-04-21 17:43:47</td>\n",
       "    </tr>\n",
       "    <tr>\n",
       "      <th>3</th>\n",
       "      <td>984234</td>\n",
       "      <td>44652</td>\n",
       "      <td>5222</td>\n",
       "      <td>33.800745</td>\n",
       "      <td>-84.410520</td>\n",
       "      <td>2012-04-21 17:43:43</td>\n",
       "    </tr>\n",
       "    <tr>\n",
       "      <th>7</th>\n",
       "      <td>984291</td>\n",
       "      <td>105054</td>\n",
       "      <td>5222</td>\n",
       "      <td>45.523452</td>\n",
       "      <td>-122.676207</td>\n",
       "      <td>2012-04-21 17:39:22</td>\n",
       "    </tr>\n",
       "    <tr>\n",
       "      <th>9</th>\n",
       "      <td>984318</td>\n",
       "      <td>2146539</td>\n",
       "      <td>5222</td>\n",
       "      <td>40.764462</td>\n",
       "      <td>-111.904565</td>\n",
       "      <td>2012-04-21 17:35:46</td>\n",
       "    </tr>\n",
       "    <tr>\n",
       "      <th>10</th>\n",
       "      <td>984232</td>\n",
       "      <td>93870</td>\n",
       "      <td>380645</td>\n",
       "      <td>33.448377</td>\n",
       "      <td>-112.074037</td>\n",
       "      <td>2012-04-21 17:38:18</td>\n",
       "    </tr>\n",
       "  </tbody>\n",
       "</table>\n",
       "</div>"
      ],
      "text/plain": [
       "      id       user_id    venue_id        latitude             longitude       \\\n",
       "1     984222      15824        5222            38.895112           -77.036366   \n",
       "3     984234      44652        5222            33.800745           -84.410520   \n",
       "7     984291     105054        5222            45.523452          -122.676207   \n",
       "9     984318    2146539        5222            40.764462          -111.904565   \n",
       "10    984232      93870      380645            33.448377          -112.074037   \n",
       "\n",
       "        created_at        \n",
       "1    2012-04-21 17:43:47  \n",
       "3    2012-04-21 17:43:43  \n",
       "7    2012-04-21 17:39:22  \n",
       "9    2012-04-21 17:35:46  \n",
       "10   2012-04-21 17:38:18  "
      ]
     },
     "execution_count": 14,
     "metadata": {},
     "output_type": "execute_result"
    }
   ],
   "source": [
    "df = read_csv('checkins.dat','|', skiprows=[1], na_values='                   ').dropna() \n",
    "#, , header=1, , index_col='id', skipfooter=2\n",
    "df.columns = [s.strip() for s in df.columns]\n",
    "df.head()"
   ]
  },
  {
   "cell_type": "code",
   "execution_count": 15,
   "metadata": {
    "collapsed": false
   },
   "outputs": [
    {
     "name": "stdout",
     "output_type": "stream",
     "text": [
      "<class 'pandas.core.frame.DataFrame'>\n",
      "Int64Index: 396634 entries, 1 to 1021964\n",
      "Data columns (total 6 columns):\n",
      "   id                    396634 non-null object\n",
      " user_id                 396634 non-null float64\n",
      " venue_id                396634 non-null float64\n",
      "     latitude            396634 non-null float64\n",
      "     longitude           396634 non-null float64\n",
      "     created_at          396634 non-null object\n",
      "dtypes: float64(4), object(2)\n",
      "memory usage: 21.2+ MB\n"
     ]
    }
   ],
   "source": [
    "# 396632\n",
    "df.info()"
   ]
  },
  {
   "cell_type": "code",
   "execution_count": 36,
   "metadata": {
    "collapsed": false
   },
   "outputs": [
    {
     "name": "stdout",
     "output_type": "stream",
     "text": [
      "   id    | user_id | venue_id |     latitude      |     longitude     |     created_at      \n",
      "---------+---------+----------+-------------------+-------------------+---------------------\n",
      "  984301 | 2041916 |     5222 |                   |                   | 2012-04-21 17:39:01\n",
      "  984222 |   15824 |     5222 |        38.8951118 |       -77.0363658 | 2012-04-21 17:43:47\n",
      "  984315 | 1764391 |     5222 |                   |                   | 2012-04-21 17:37:18\n",
      "  984234 |   44652 |     5222 |         33.800745 |         -84.41052 | 2012-04-21 17:43:43\n",
      "  984249 | 2146840 |     5222 |                   |                   | 2012-04-21 17:42:58\n",
      "  984268 | 2146843 |     5222 |                   |   \n"
     ]
    }
   ],
   "source": [
    "# with open('checkins.dat', 'r') as f: print(f.read(500))\n",
    "print(open('checkins.dat').read(700))"
   ]
  },
  {
   "cell_type": "code",
   "execution_count": 47,
   "metadata": {
    "collapsed": false
   },
   "outputs": [
    {
     "name": "stdout",
     "output_type": "stream",
     "text": [
      "<class 'pandas.core.frame.DataFrame'>\n",
      "Int64Index: 100000 entries, 386679 to 116162\n",
      "Data columns (total 2 columns):\n",
      "latitude     100000 non-null float64\n",
      "longitude    100000 non-null float64\n",
      "dtypes: float64(2)\n",
      "memory usage: 2.3 MB\n"
     ]
    }
   ],
   "source": [
    "X = df[['latitude','longitude']].sample(100000)\n",
    "X.info()"
   ]
  },
  {
   "cell_type": "code",
   "execution_count": 48,
   "metadata": {
    "collapsed": false
   },
   "outputs": [
    {
     "name": "stdout",
     "output_type": "stream",
     "text": [
      "CPU times: user 3min 36s, sys: 260 ms, total: 3min 37s\n",
      "Wall time: 3min 37s\n"
     ]
    },
    {
     "data": {
      "text/plain": [
       "MeanShift(bandwidth=0.1, bin_seeding=False, cluster_all=True, min_bin_freq=1,\n",
       "     n_jobs=1, seeds=None)"
      ]
     },
     "execution_count": 48,
     "metadata": {},
     "output_type": "execute_result"
    }
   ],
   "source": [
    "ms = MeanShift(bandwidth=0.1, n_jobs=-1)\n",
    "%time ms.fit(X)"
   ]
  },
  {
   "cell_type": "code",
   "execution_count": 49,
   "metadata": {
    "collapsed": false
   },
   "outputs": [
    {
     "data": {
      "text/plain": [
       "array([[  40.71739277,  -73.98903854],\n",
       "       [  33.4492317 , -112.00175051],\n",
       "       [  41.87816072,  -87.62982257],\n",
       "       ..., \n",
       "       [  10.473523  ,  -84.0167423 ],\n",
       "       [  31.8023831 ,  -97.0916692 ],\n",
       "       [  25.1497622 ,  -80.6826254 ]])"
      ]
     },
     "execution_count": 49,
     "metadata": {},
     "output_type": "execute_result"
    }
   ],
   "source": [
    "# labels = ms.labels_\n",
    "# cluster_centers = ms.cluster_centers_\n",
    "# labels_unique = np.unique(labels)\n",
    "# n_clusters_ = len(labels_unique)\n",
    "# print(\"number of estimated clusters : %d\" % n_clusters_)\n",
    "# print(cluster_centers)\n",
    "cc = ms.cluster_centers_\n",
    "cc"
   ]
  },
  {
   "cell_type": "code",
   "execution_count": 69,
   "metadata": {
    "collapsed": false
   },
   "outputs": [],
   "source": [
    "cl = ms.labels_"
   ]
  },
  {
   "cell_type": "code",
   "execution_count": 70,
   "metadata": {
    "collapsed": false
   },
   "outputs": [
    {
     "data": {
      "text/plain": [
       "3552"
      ]
     },
     "execution_count": 70,
     "metadata": {},
     "output_type": "execute_result"
    }
   ],
   "source": [
    "len(np.unique(cl))"
   ]
  },
  {
   "cell_type": "code",
   "execution_count": 56,
   "metadata": {
    "collapsed": false
   },
   "outputs": [
    {
     "data": {
      "text/plain": [
       "3552"
      ]
     },
     "execution_count": 56,
     "metadata": {},
     "output_type": "execute_result"
    }
   ],
   "source": [
    "len(cc)"
   ]
  },
  {
   "cell_type": "code",
   "execution_count": 138,
   "metadata": {
    "collapsed": false
   },
   "outputs": [
    {
     "data": {
      "text/plain": [
       "[(33.751277, -118.18874),\n",
       " (25.867735999999997, -80.324116),\n",
       " (51.503015999999995, -0.07547899999999999),\n",
       " (52.378894, 4.885084),\n",
       " (39.366487, 117.036146),\n",
       " (-33.868457, 151.20513400000002)]"
      ]
     },
     "execution_count": 138,
     "metadata": {},
     "output_type": "execute_result"
    }
   ],
   "source": [
    "of = [tuple(o) for o in np.array(read_csv(StringIO('''\n",
    "33.751277, -118.188740, (Los Angeles)\n",
    "25.867736, -80.324116, (Miami)\n",
    "51.503016, -0.075479, (London)\n",
    "52.378894, 4.885084, (Amsterdam)\n",
    "39.366487, 117.036146, (Beijing)\n",
    "-33.868457, 151.205134, (Sydney)\n",
    "'''), header=None))[:,0:2]]\n",
    "of"
   ]
  },
  {
   "cell_type": "code",
   "execution_count": 68,
   "metadata": {
    "collapsed": false
   },
   "outputs": [
    {
     "name": "stdout",
     "output_type": "stream",
     "text": [
      "866455.4329011001\n"
     ]
    }
   ],
   "source": [
    "from geopy.distance import vincenty\n",
    "newport_ri = (41.49008, -71.312796)\n",
    "cleveland_oh = (41.499498, -81.695391)\n",
    "print(vincenty(newport_ri, cleveland_oh).meters)"
   ]
  },
  {
   "cell_type": "code",
   "execution_count": 67,
   "metadata": {
    "collapsed": false
   },
   "outputs": [],
   "source": [
    "import pickle\n",
    "def pd(f, a):\n",
    "    with open(f, 'wb') as handle:\n",
    "        pickle.dump(a, handle)\n",
    "\n",
    "def pl(f):\n",
    "    with open(f, 'rb') as handle:\n",
    "        return pickle.load(handle)\n",
    "pd('ms.p', ms)"
   ]
  },
  {
   "cell_type": "code",
   "execution_count": 83,
   "metadata": {
    "collapsed": false
   },
   "outputs": [
    {
     "name": "stdout",
     "output_type": "stream",
     "text": [
      "CPU times: user 0 ns, sys: 0 ns, total: 0 ns\n",
      "Wall time: 5.27 ms\n",
      "CPU times: user 10 s, sys: 50 ms, total: 10.1 s\n",
      "Wall time: 10.1 s\n"
     ]
    }
   ],
   "source": [
    "# np.array(Counter(cl).items())\n",
    "# %%time\n",
    "cl1 = list(cl)\n",
    "%time cl2 = np.array([[i,cl1.count(i)] for i in set(cl)])"
   ]
  },
  {
   "cell_type": "code",
   "execution_count": 94,
   "metadata": {
    "collapsed": false
   },
   "outputs": [],
   "source": [
    "cl3 = cl2[cl2[:,1] > 15]"
   ]
  },
  {
   "cell_type": "code",
   "execution_count": 107,
   "metadata": {
    "collapsed": false
   },
   "outputs": [
    {
     "data": {
      "text/plain": [
       "3741067.069343557"
      ]
     },
     "execution_count": 107,
     "metadata": {},
     "output_type": "execute_result"
    }
   ],
   "source": [
    "vincenty((of[0,0], of[0,1]), (of[1,0], of[1,1])).meters"
   ]
  },
  {
   "cell_type": "code",
   "execution_count": 111,
   "metadata": {
    "collapsed": false
   },
   "outputs": [],
   "source": [
    "cl4 = cl3[:,0]"
   ]
  },
  {
   "cell_type": "code",
   "execution_count": 137,
   "metadata": {
    "collapsed": false
   },
   "outputs": [],
   "source": [
    "# cc1 = cc[cl4]\n",
    "cc2 = [(i,tuple(cc[i])) for i in cl4]\n",
    "# cc2"
   ]
  },
  {
   "cell_type": "code",
   "execution_count": 144,
   "metadata": {
    "collapsed": false
   },
   "outputs": [],
   "source": [
    "# v = lambda o,c: vincenty(tuple(o), tuple(c)).meters \n",
    "# %time b = [(v(o, c), i) for o in of for i,c in enumerate(cc1)]\n",
    "b = [(vincenty(o, c).meters, i) for o in of for i,c in cc2]\n",
    "b.sort()"
   ]
  },
  {
   "cell_type": "code",
   "execution_count": 151,
   "metadata": {
    "collapsed": false
   },
   "outputs": [
    {
     "name": "stdout",
     "output_type": "stream",
     "text": [
      "m3-w1=\"-33.8697913358 151.205630766\"\n",
      "\n"
     ]
    }
   ],
   "source": [
    "# -33.8661460662 151.207082415\n",
    "pf('m3-w1',pp(cc[b[0][1]]))"
   ]
  },
  {
   "cell_type": "code",
   "execution_count": 152,
   "metadata": {
    "collapsed": false
   },
   "outputs": [
    {
     "name": "stdout",
     "output_type": "stream",
     "text": [
      "m3-w1-1=\"52.3726819289 4.89260979211\"\n",
      "\n"
     ]
    }
   ],
   "source": [
    "pf('m3-w1-1',pp(cc[b[1][1]]))"
   ]
  },
  {
   "cell_type": "code",
   "execution_count": null,
   "metadata": {
    "collapsed": true
   },
   "outputs": [],
   "source": []
  }
 ],
 "metadata": {
  "kernelspec": {
   "display_name": "Python 3",
   "language": "python",
   "name": "python3"
  },
  "language_info": {
   "codemirror_mode": {
    "name": "ipython",
    "version": 3
   },
   "file_extension": ".py",
   "mimetype": "text/x-python",
   "name": "python",
   "nbconvert_exporter": "python",
   "pygments_lexer": "ipython3",
   "version": "3.5.1"
  }
 },
 "nbformat": 4,
 "nbformat_minor": 0
}
